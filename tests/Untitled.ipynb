{
 "cells": [
  {
   "cell_type": "code",
   "execution_count": 1,
   "id": "0a7be01f",
   "metadata": {},
   "outputs": [],
   "source": [
    "from random import random, randint"
   ]
  },
  {
   "cell_type": "code",
   "execution_count": 2,
   "id": "6fa92f64",
   "metadata": {},
   "outputs": [],
   "source": [
    "from collections import Counter"
   ]
  },
  {
   "cell_type": "code",
   "execution_count": 3,
   "id": "d4c98ac1",
   "metadata": {},
   "outputs": [],
   "source": [
    "weigths = [ 1, 3, 10 ]\n",
    "transformed_weigths = [ 1/(i+1) for i in weigths ]\n",
    "weigth_sum = sum(transformed_weigths)"
   ]
  },
  {
   "cell_type": "code",
   "execution_count": 4,
   "id": "1b812693",
   "metadata": {},
   "outputs": [],
   "source": [
    "res = []"
   ]
  },
  {
   "cell_type": "code",
   "execution_count": 5,
   "id": "53917739",
   "metadata": {},
   "outputs": [],
   "source": [
    "for i in range(100000):\n",
    "    rand_val = random() * weigth_sum\n",
    "    val = 0\n",
    "    i = 0\n",
    "    \n",
    "    while val < rand_val:\n",
    "        val += transformed_weigths[i]\n",
    "        i += 1\n",
    "    \n",
    "    res.append(i)"
   ]
  },
  {
   "cell_type": "code",
   "execution_count": 6,
   "id": "a61ef387",
   "metadata": {},
   "outputs": [],
   "source": [
    "res_counter = Counter(res)"
   ]
  },
  {
   "cell_type": "code",
   "execution_count": 7,
   "id": "d4d5fa73",
   "metadata": {},
   "outputs": [
    {
     "data": {
      "text/plain": [
       "{1: 1.0, 2: 0.5064884461611439, 3: 0.18762282306701905}"
      ]
     },
     "execution_count": 7,
     "metadata": {},
     "output_type": "execute_result"
    }
   ],
   "source": [
    "res_dict = dict(res_counter)\n",
    "compare_val = res_dict[list(res_dict.keys())[0]]\n",
    "\n",
    "{ key : res_dict[key] / compare_val for key in res_dict }"
   ]
  },
  {
   "cell_type": "code",
   "execution_count": 9,
   "id": "a8b22225",
   "metadata": {},
   "outputs": [
    {
     "data": {
      "text/plain": [
       "{1: 59028, 2: 29897, 3: 11075}"
      ]
     },
     "execution_count": 9,
     "metadata": {},
     "output_type": "execute_result"
    }
   ],
   "source": [
    "res_dict"
   ]
  },
  {
   "cell_type": "code",
   "execution_count": 8,
   "id": "07c9362a",
   "metadata": {},
   "outputs": [
    {
     "data": {
      "text/plain": [
       "[0.5, 0.25, 0.09090909090909091]"
      ]
     },
     "execution_count": 8,
     "metadata": {},
     "output_type": "execute_result"
    }
   ],
   "source": [
    "transformed_weigths"
   ]
  }
 ],
 "metadata": {
  "kernelspec": {
   "display_name": "Python 3 (ipykernel)",
   "language": "python",
   "name": "python3"
  },
  "language_info": {
   "codemirror_mode": {
    "name": "ipython",
    "version": 3
   },
   "file_extension": ".py",
   "mimetype": "text/x-python",
   "name": "python",
   "nbconvert_exporter": "python",
   "pygments_lexer": "ipython3",
   "version": "3.7.13"
  }
 },
 "nbformat": 4,
 "nbformat_minor": 5
}
